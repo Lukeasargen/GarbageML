{
 "cells": [
  {
   "cell_type": "code",
   "execution_count": 1,
   "metadata": {},
   "outputs": [
    {
     "name": "stderr",
     "output_type": "stream",
     "text": [
      "c:\\Users\\LUKE_SARGEN\\anaconda3\\envs\\pytorch110cu113\\lib\\site-packages\\numpy\\_distributor_init.py:30: UserWarning: loaded more than 1 DLL from .libs:\n",
      "c:\\Users\\LUKE_SARGEN\\anaconda3\\envs\\pytorch110cu113\\lib\\site-packages\\numpy\\.libs\\libopenblas.GK7GX5KEQ4F6UYO3P26ULGBQYHGQO7J4.gfortran-win_amd64.dll\n",
      "c:\\Users\\LUKE_SARGEN\\anaconda3\\envs\\pytorch110cu113\\lib\\site-packages\\numpy\\.libs\\libopenblas.XWYDX2IKJW2NMTWSFYNGFUWKQU3LYTCZ.gfortran-win_amd64.dll\n",
      "  warnings.warn(\"loaded more than 1 DLL from .libs:\"\n"
     ]
    }
   ],
   "source": [
    "import time\n",
    "\n",
    "import matplotlib.pyplot as plt\n",
    "from pytorch_lightning.metrics.functional import accuracy, precision_recall, f1\n",
    "import seaborn as sn\n",
    "from sklearn.metrics import confusion_matrix\n",
    "from sklearn.metrics import classification_report\n",
    "import torch\n",
    "from torch.utils.data import DataLoader\n",
    "from torchvision.datasets import ImageFolder\n",
    "from torchvision import transforms as T\n",
    "\n",
    "from model import GarbageModel\n",
    "from util import make_ensemble, time_to_string"
   ]
  },
  {
   "cell_type": "code",
   "execution_count": 2,
   "metadata": {},
   "outputs": [
    {
     "name": "stdout",
     "output_type": "stream",
     "text": [
      "Device : cuda:0\n",
      " * Loading ensemble ...\n",
      "Adding logs/subset/version_91/last.ckpt\n",
      "Categories : ['mmmm', 'nah', 'nnnn', 'oooo', 'qqqq']\n",
      "Input Size : 256\n",
      " * Ensemble loaded.\n"
     ]
    }
   ],
   "source": [
    "model_paths = [\n",
    "        # \"logs/subset/version_87/last.ckpt\",  # mobilenet_v3_small.attn\n",
    "        \"logs/subset/version_91/last.ckpt\",  # resnet50.attn\n",
    "]\n",
    "device = torch.device('cuda:0' if torch.cuda.is_available() else 'cpu')\n",
    "print(\"Device : {}\".format(device))\n",
    "model = make_ensemble(model_paths, GarbageModel, device)"
   ]
  },
  {
   "cell_type": "code",
   "execution_count": 28,
   "metadata": {},
   "outputs": [
    {
     "name": "stdout",
     "output_type": "stream",
     "text": [
      "3000 Test Samples.\n"
     ]
    }
   ],
   "source": [
    "# root = \"data/test448\"\n",
    "root = r\"C:\\Users\\LUKE_SARGEN\\projects\\datasets\\test512\"\n",
    "batch_size = 224\n",
    "use_crops = False\n",
    "input_size = 224  # model.input_size, 128, 192, 224, 256, 288, 320, 384, 448, 512\n",
    "\n",
    "if use_crops:\n",
    "    valid_transform = T.Compose([\n",
    "        T.Resize(int(1.05*input_size)),\n",
    "        T.FiveCrop(input_size),\n",
    "        # T.TenCrop(input_size),\n",
    "        T.Lambda(lambda crops: torch.stack([T.ToTensor()(crop) for crop in crops])),\n",
    "    ])\n",
    "else:\n",
    "    valid_transform = T.Compose([\n",
    "        T.Resize(input_size, interpolation=T.InterpolationMode.BICUBIC),\n",
    "        T.CenterCrop(input_size),\n",
    "        T.ToTensor(),\n",
    "    ])\n",
    "valid_ds = ImageFolder(root=root, transform=valid_transform)\n",
    "num_classes = len(valid_ds.classes)\n",
    "val_loader = DataLoader(dataset=valid_ds, batch_size=batch_size, shuffle=False, num_workers=0)\n",
    "print(\"{} Test Samples.\".format(len(valid_ds)))"
   ]
  },
  {
   "cell_type": "code",
   "execution_count": 29,
   "metadata": {
    "tags": []
   },
   "outputs": [
    {
     "name": "stdout",
     "output_type": "stream",
     "text": [
      "image 224/3000. 138.8 images/second. elapsed=1.61 seconds. remaining=20.00 seconds.\n",
      "image 448/3000. 138.7 images/second. elapsed=3.23 seconds. remaining=18.39 seconds.\n",
      "image 672/3000. 142.8 images/second. elapsed=4.71 seconds. remaining=16.31 seconds.\n",
      "image 896/3000. 145.7 images/second. elapsed=6.15 seconds. remaining=14.44 seconds.\n",
      "image 1120/3000. 146.6 images/second. elapsed=7.64 seconds. remaining=12.82 seconds.\n",
      "image 1344/3000. 147.2 images/second. elapsed=9.13 seconds. remaining=11.25 seconds.\n",
      "image 1568/3000. 146.9 images/second. elapsed=10.68 seconds. remaining=9.75 seconds.\n",
      "image 1792/3000. 146.8 images/second. elapsed=12.21 seconds. remaining=8.23 seconds.\n",
      "image 2016/3000. 146.6 images/second. elapsed=13.76 seconds. remaining=6.71 seconds.\n",
      "image 2240/3000. 146.2 images/second. elapsed=15.33 seconds. remaining=5.20 seconds.\n",
      "image 2464/3000. 146.0 images/second. elapsed=16.87 seconds. remaining=3.67 seconds.\n",
      "image 2688/3000. 145.9 images/second. elapsed=18.42 seconds. remaining=2.14 seconds.\n",
      "image 2912/3000. 145.5 images/second. elapsed=20.02 seconds. remaining=0.60 seconds.\n",
      "image 3136/3000. 151.6 images/second. elapsed=20.68 seconds. remaining=-0.90 seconds.\n",
      "image 3000/3000. 143.3 images/second. elapsed=20.93 seconds.\n",
      "preds.shape : torch.Size([1, 3000])\n",
      "pred.shape : torch.Size([3000])\n",
      "target.shape : torch.Size([3000])\n"
     ]
    }
   ],
   "source": [
    "torch.cuda.empty_cache()\n",
    "yhats = []  # All model predictions\n",
    "ensemble = []  # Mean prediction\n",
    "targets = []  # Targets\n",
    "t0 = time.time()\n",
    "i = 0\n",
    "for (data, target) in val_loader:\n",
    "    data = data.to(device)\n",
    "    if use_crops:\n",
    "        bs, ncrops, c, h, w = data.size()\n",
    "        data = data.view(-1, c, h, w)\n",
    "        with torch.no_grad():\n",
    "            ymodels = [torch.softmax(m(data.clone()), dim=1).view(bs, ncrops, -1).mean(1) for m in model.models]\n",
    "        avg_pred = torch.mean(torch.stack(ymodels), dim=0)\n",
    "        yhat = torch.stack([torch.argmax(y, dim=1) for y in ymodels])\n",
    "    else:\n",
    "        with torch.no_grad():\n",
    "            ymodels = [torch.softmax(m(data.clone()), dim=1) for m in model.models]\n",
    "        avg_pred = torch.mean(torch.stack(ymodels), dim=0)\n",
    "        yhat = torch.stack([torch.argmax(y, dim=1) for y in ymodels])\n",
    "    yhats.append(yhat)\n",
    "    ensemble.append(avg_pred)\n",
    "    targets.append(target)\n",
    "    if i%max(1, int(len(valid_ds)/(batch_size*10)))==0:\n",
    "        c = len(targets)*batch_size\n",
    "        duration = time.time()-t0\n",
    "        remaining = duration/c * (len(valid_ds)-c)\n",
    "        print(\"image {}/{}. {:.1f} images/second. elapsed={}. remaining={}.\".format(c, len(valid_ds), c/duration, time_to_string(duration), time_to_string(remaining)))\n",
    "    i += 1\n",
    "\n",
    "preds = torch.cat(yhats, dim=1).cpu()\n",
    "pred = torch.argmax(torch.cat(ensemble), dim=1).cpu()\n",
    "target = torch.cat(targets).cpu()\n",
    "c = len(target)\n",
    "duration = time.time()-t0\n",
    "remaining = duration/c * (len(valid_ds)-c)\n",
    "print(\"image {}/{}. {:.1f} images/second. elapsed={}.\".format(c, len(valid_ds), c/duration, time_to_string(duration)))\n",
    "print(\"preds.shape :\", preds.shape)\n",
    "print(\"pred.shape :\", pred.shape)\n",
    "print(\"target.shape :\", target.shape)"
   ]
  },
  {
   "cell_type": "code",
   "execution_count": 30,
   "metadata": {},
   "outputs": [
    {
     "name": "stdout",
     "output_type": "stream",
     "text": [
      "    Model          Arch  Accuracy Precision    Recall  F1 Score\n",
      "        0 resnet50.attn     59.93     60.46     59.42     59.69\n",
      " Ensemble                   59.93     60.46     59.42     59.69\n",
      "\n"
     ]
    }
   ],
   "source": [
    "def stats(pred, target):\n",
    "    acc = accuracy(pred, target)\n",
    "    avg_precision, avg_recall = precision_recall(pred, target, num_classes=num_classes, average=\"macro\", mdmc_average=\"global\")\n",
    "    weighted_f1 = f1(pred, target, num_classes=num_classes, threshold=0.5, average=\"weighted\")\n",
    "    return 100*acc, 100*avg_precision, 100*avg_recall, 100*weighted_f1\n",
    "\n",
    "archs = [m.hparams.model for m in model.models]\n",
    "headers = [\"Model\", \"Arch\", \"Accuracy\", \"Precision\", \"Recall\", \"F1 Score\"]\n",
    "hw = max(len(n) for n in headers)\n",
    "aw = max(len(n) for n in archs)\n",
    "width = max(len(n) for n in headers)\n",
    "head_fmt = '{:>{hw}s}' + ' {:>{aw}s}' + ' {:>{hw}s}'*(len(headers)-2) + '\\n'\n",
    "row_fmt = '{:>{hw}s}' + ' {:>{aw}s}' + ' {:>9.2f}'*(len(headers)-2) + '\\n'\n",
    "stat_str = head_fmt.format(*headers, hw=hw, aw=aw)\n",
    "for i in range(len(model.models)):\n",
    "    row = stats(preds[i, :], target)\n",
    "    stat_str += row_fmt.format(str(i), str(archs[i]),*row, hw=hw, aw=aw)\n",
    "row = stats(pred, target)\n",
    "stat_str += row_fmt.format(\"Ensemble\", \"\", *row, hw=hw, aw=aw)\n",
    "print(stat_str)"
   ]
  },
  {
   "cell_type": "code",
   "execution_count": 31,
   "metadata": {},
   "outputs": [
    {
     "name": "stdout",
     "output_type": "stream",
     "text": [
      "              precision    recall  f1-score   support\n",
      "\n",
      "        mmmm     0.4427    0.3710    0.4037       531\n",
      "         nah     0.7888    0.4913    0.6055       631\n",
      "        nnnn     0.7257    0.6908    0.7078       747\n",
      "        oooo     0.5551    0.7293    0.6304       580\n",
      "        qqqq     0.5109    0.6888    0.5867       511\n",
      "\n",
      "    accuracy                         0.5993      3000\n",
      "   macro avg     0.6046    0.5942    0.5868      3000\n",
      "weighted avg     0.6193    0.5993    0.5969      3000\n",
      "\n"
     ]
    }
   ],
   "source": [
    "print( classification_report(target, pred, target_names=model.classes, digits=4) )"
   ]
  },
  {
   "cell_type": "code",
   "execution_count": 32,
   "metadata": {},
   "outputs": [
    {
     "data": {
      "image/png": "[encoded data removed]",
      "text/plain": [
       "<Figure size 576x576 with 2 Axes>"
      ]
     },
     "metadata": {},
     "output_type": "display_data"
    }
   ],
   "source": [
    "cm = confusion_matrix(target, pred)\n",
    "plt.figure(figsize=(8, 8))\n",
    "sn.set(font_scale=1.1)  # Label size\n",
    "sn.heatmap(cm, annot=True, fmt=\"d\",\n",
    "cmap='Blues',\n",
    "# cbar=False,\n",
    "vmin=0,\n",
    "xticklabels=model.classes,  yticklabels=model.classes, annot_kws={\"size\": 16}, square=True, linewidths=0.5)\n",
    "plt.title(\"Confusion Matrix\")\n",
    "plt.ylabel('True label')\n",
    "plt.xlabel('Predicted label\\n\\nAccuracy={:.2f}\\nPrecision={:.2f}\\nRecall={:.2f}\\nF1 Score={:.2f}'.format(*row))\n",
    "plt.savefig('data/confusion_matrix.png', dpi=150, bbox_inches='tight')\n",
    "plt.show()"
   ]
  },
  {
   "cell_type": "code",
   "execution_count": null,
   "metadata": {},
   "outputs": [],
   "source": []
  }
 ],
 "metadata": {
  "kernelspec": {
   "display_name": "Python 3.9.7 ('pytorch110cu113')",
   "language": "python",
   "name": "python3"
  },
  "language_info": {
   "codemirror_mode": {
    "name": "ipython",
    "version": 3
   },
   "file_extension": ".py",
   "mimetype": "text/x-python",
   "name": "python",
   "nbconvert_exporter": "python",
   "pygments_lexer": "ipython3",
   "version": "3.9.7"
  },
  "orig_nbformat": 2,
  "vscode": {
   "interpreter": {
    "hash": "c5d4202fc0972c950dc00f0d2b0282a36ce4b02dee0b5d93ce63d100c30f29af"
   }
  }
 },
 "nbformat": 4,
 "nbformat_minor": 2
}
