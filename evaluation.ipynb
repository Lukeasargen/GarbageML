{
 "cells": [
  {
   "cell_type": "code",
   "execution_count": 5,
   "metadata": {},
   "outputs": [],
   "source": [
    "import time\n",
    "\n",
    "import matplotlib.pyplot as plt\n",
    "from pytorch_lightning.metrics.functional import accuracy, precision_recall, f1\n",
    "import seaborn as sn\n",
    "from sklearn.metrics import confusion_matrix\n",
    "from sklearn.metrics import classification_report\n",
    "import torch\n",
    "from torch.utils.data import DataLoader\n",
    "from torchvision.datasets import ImageFolder\n",
    "from torchvision import transforms as T\n",
    "\n",
    "from model import GarbageModel\n",
    "from util import make_ensemble, time_to_string"
   ]
  },
  {
   "cell_type": "code",
   "execution_count": 6,
   "metadata": {},
   "outputs": [
    {
     "name": "stdout",
     "output_type": "stream",
     "text": [
      "Device : cuda:0\n",
      " * Loading ensemble ...\n",
      "Adding logs/default/version_18/last.ckpt\n",
      "Adding logs/default/version_23/last.ckpt\n",
      "Adding logs/default/version_24/last.ckpt\n",
      "Categories : ['mmmm', 'nah', 'nnnn', 'oooo', 'qqqq']\n",
      "Input Size : 224\n",
      " * Ensemble loaded.\n"
     ]
    }
   ],
   "source": [
    "model_paths = [\n",
    "    \"logs/default/version_18/last.ckpt\",\n",
    "    # \"logs/default/version_19/last.ckpt\",\n",
    "    # \"logs/default/version_20/last.ckpt\",\n",
    "    # \"logs/default/version_21/last.ckpt\",\n",
    "    # \"logs/default/version_22/last.ckpt\",\n",
    "    \"logs/default/version_23/last.ckpt\",\n",
    "    \"logs/default/version_24/last.ckpt\",\n",
    "]\n",
    "device = torch.device('cuda:0' if torch.cuda.is_available() else 'cpu')\n",
    "print(\"Device : {}\".format(device))\n",
    "model = make_ensemble(model_paths, GarbageModel, device)"
   ]
  },
  {
   "cell_type": "code",
   "execution_count": 7,
   "metadata": {},
   "outputs": [
    {
     "name": "stdout",
     "output_type": "stream",
     "text": [
      "3000 Test Samples.\n"
     ]
    }
   ],
   "source": [
    "# root = \"data/test448\"\n",
    "root = r\"C:\\Users\\LUKE_SARGEN\\projects\\classifier\\data\\test512\"\n",
    "batch_size = 128\n",
    "use_crops = True\n",
    "input_size = 224  # model.input_size, 128, 144, 160, 192, 224, 256, 288, 320, 384, 448\n",
    "\n",
    "if use_crops:\n",
    "    valid_transform = T.Compose([\n",
    "        T.Resize(int(1.1*input_size)),\n",
    "        T.FiveCrop(input_size),\n",
    "        # T.TenCrop(input_size),\n",
    "        T.Lambda(lambda crops: torch.stack([T.ToTensor()(crop) for crop in crops])),\n",
    "    ])\n",
    "else:\n",
    "    valid_transform = T.Compose([\n",
    "        T.Resize(input_size),\n",
    "        T.CenterCrop(input_size),\n",
    "        T.ToTensor(),\n",
    "    ])\n",
    "\n",
    "valid_ds = ImageFolder(root=root, transform=valid_transform)\n",
    "num_classes = len(valid_ds.classes)\n",
    "val_loader = DataLoader(dataset=valid_ds, batch_size=batch_size, shuffle=True, num_workers=0)\n",
    "print(\"{} Test Samples.\".format(len(valid_ds)))"
   ]
  },
  {
   "cell_type": "code",
   "execution_count": 8,
   "metadata": {
    "tags": []
   },
   "outputs": [
    {
     "name": "stdout",
     "output_type": "stream",
     "text": [
      "image 128/3000. 58.0 images/second. elapsed=2.21 seconds. remaining=49.55 seconds.\n",
      "image 384/3000. 57.7 images/second. elapsed=6.66 seconds. remaining=45.34 seconds.\n",
      "image 640/3000. 57.7 images/second. elapsed=11.10 seconds. remaining=40.91 seconds.\n",
      "image 896/3000. 57.4 images/second. elapsed=15.61 seconds. remaining=36.65 seconds.\n",
      "image 1152/3000. 57.3 images/second. elapsed=20.11 seconds. remaining=32.25 seconds.\n",
      "image 1408/3000. 57.3 images/second. elapsed=24.56 seconds. remaining=27.77 seconds.\n",
      "image 1664/3000. 57.2 images/second. elapsed=29.08 seconds. remaining=23.35 seconds.\n",
      "image 1920/3000. 57.3 images/second. elapsed=33.52 seconds. remaining=18.85 seconds.\n",
      "image 2176/3000. 57.3 images/second. elapsed=37.98 seconds. remaining=14.38 seconds.\n",
      "image 2432/3000. 57.4 images/second. elapsed=42.38 seconds. remaining=9.90 seconds.\n",
      "image 2688/3000. 57.4 images/second. elapsed=46.80 seconds. remaining=5.43 seconds.\n",
      "image 2944/3000. 57.4 images/second. elapsed=51.29 seconds. remaining=0.98 seconds.\n",
      "image 3000/3000. 56.9 images/second. elapsed=52.68 seconds.\n",
      "preds.shape : torch.Size([3, 3000])\n",
      "pred.shape : torch.Size([3000])\n",
      "target.shape : torch.Size([3000])\n"
     ]
    }
   ],
   "source": [
    "yhats = []  # All model predictions\n",
    "ensemble = []  # Mean prediction\n",
    "targets = []  # Targets\n",
    "t0 = time.time()\n",
    "for i, (data, target) in enumerate(val_loader):\n",
    "    data = data.to(device)\n",
    "\n",
    "    if use_crops:\n",
    "        bs, ncrops, c, h, w = data.size()\n",
    "        data = data.view(-1, c, h, w)\n",
    "        with torch.no_grad():\n",
    "            ymodels = [torch.softmax(m(data.clone()), dim=1).view(bs, ncrops, -1).mean(1) for m in model.models]\n",
    "        avg_pred = torch.mean(torch.stack(ymodels), dim=0)\n",
    "        yhat = torch.stack([torch.argmax(y, dim=1) for y in ymodels])\n",
    "    else:\n",
    "        with torch.no_grad():\n",
    "            ymodels = [torch.softmax(m(data.clone()), dim=1) for m in model.models]\n",
    "        avg_pred = torch.mean(torch.stack(ymodels), dim=0)\n",
    "        yhat = torch.stack([torch.argmax(y, dim=1) for y in ymodels])\n",
    "\n",
    "    yhats.append(yhat)\n",
    "    ensemble.append(avg_pred)\n",
    "    targets.append(target)\n",
    "    if i%max(1, int(len(valid_ds)/(batch_size*10)))==0:\n",
    "        c = len(targets)*batch_size\n",
    "        duration = time.time()-t0\n",
    "        remaining = duration/c * (len(valid_ds)-c)\n",
    "        print(\"image {}/{}. {:.1f} images/second. elapsed={}. remaining={}.\".format(c, len(valid_ds), c/duration, time_to_string(duration), time_to_string(remaining)))\n",
    "\n",
    "preds = torch.cat(yhats, dim=1).cpu()\n",
    "pred = torch.argmax(torch.cat(ensemble), dim=1).cpu()\n",
    "target = torch.cat(targets).cpu()\n",
    "\n",
    "c = len(target)\n",
    "duration = time.time()-t0\n",
    "remaining = duration/c * (len(valid_ds)-c)\n",
    "print(\"image {}/{}. {:.1f} images/second. elapsed={}.\".format(c, len(valid_ds), c/duration, time_to_string(duration)))\n",
    "\n",
    "print(\"preds.shape :\", preds.shape)\n",
    "print(\"pred.shape :\", pred.shape)\n",
    "print(\"target.shape :\", target.shape)\n"
   ]
  },
  {
   "cell_type": "code",
   "execution_count": 9,
   "metadata": {},
   "outputs": [
    {
     "name": "stdout",
     "output_type": "stream",
     "text": [
      "    Model               Arch  Accuracy Precision    Recall  F1 Score\n",
      "        0 shufflenet_v2_x1_0     58.83     59.47     58.83     58.62\n",
      "        1 shufflenet_v2_x1_0     58.73     59.73     58.73     58.36\n",
      "        2 shufflenet_v2_x1_0     58.70     59.59     58.70     58.33\n",
      " Ensemble                        60.20     61.02     60.20     59.99\n",
      "\n"
     ]
    },
    {
     "name": "stderr",
     "output_type": "stream",
     "text": [
      "C:\\Users\\LUKE_SARGEN\\anaconda3\\envs\\pytorch19cu11\\lib\\site-packages\\deprecate\\deprecation.py:115: LightningDeprecationWarning: The `accuracy` was deprecated since v1.3.0 in favor of `torchmetrics.functional.classification.accuracy.accuracy`. It will be removed in v1.5.0.\n",
      "  stream(template_mgs % msg_args)\n",
      "C:\\Users\\LUKE_SARGEN\\anaconda3\\envs\\pytorch19cu11\\lib\\site-packages\\deprecate\\deprecation.py:115: LightningDeprecationWarning: The `precision_recall` was deprecated since v1.3.0 in favor of `torchmetrics.functional.classification.precision_recall.precision_recall`. It will be removed in v1.5.0.\n",
      "  stream(template_mgs % msg_args)\n",
      "C:\\Users\\LUKE_SARGEN\\anaconda3\\envs\\pytorch19cu11\\lib\\site-packages\\deprecate\\deprecation.py:115: LightningDeprecationWarning: The `f1` was deprecated since v1.3.0 in favor of `torchmetrics.functional.classification.f_beta.f1`. It will be removed in v1.5.0.\n",
      "  stream(template_mgs % msg_args)\n"
     ]
    }
   ],
   "source": [
    "def stats(pred, target):\n",
    "    acc = accuracy(pred, target)\n",
    "    avg_precision, avg_recall = precision_recall(pred, target, num_classes=num_classes, average=\"macro\", mdmc_average=\"global\")\n",
    "    weighted_f1 = f1(pred, target, num_classes=num_classes, threshold=0.5, average=\"weighted\")\n",
    "    return 100*acc, 100*avg_precision, 100*avg_recall, 100*weighted_f1\n",
    "\n",
    "archs = [m.hparams.model for m in model.models]\n",
    "headers = [\"Model\", \"Arch\", \"Accuracy\", \"Precision\", \"Recall\", \"F1 Score\"]\n",
    "hw = max(len(n) for n in headers)\n",
    "aw = max(len(n) for n in archs)\n",
    "width = max(len(n) for n in headers)\n",
    "head_fmt = '{:>{hw}s}' + ' {:>{aw}s}' + ' {:>{hw}s}'*(len(headers)-2) + '\\n'\n",
    "row_fmt = '{:>{hw}s}' + ' {:>{aw}s}' + ' {:>9.2f}'*(len(headers)-2) + '\\n'\n",
    "stat_str = head_fmt.format(*headers, hw=hw, aw=aw)\n",
    "for i in range(len(model.models)):\n",
    "    row = stats(preds[i, :], target)\n",
    "    stat_str += row_fmt.format(str(i), str(archs[i]),*row, hw=hw, aw=aw)\n",
    "row = stats(pred, target)\n",
    "stat_str += row_fmt.format(\"Ensemble\", \"\", *row, hw=hw, aw=aw)\n",
    "print(stat_str)"
   ]
  },
  {
   "cell_type": "code",
   "execution_count": 10,
   "metadata": {},
   "outputs": [
    {
     "name": "stdout",
     "output_type": "stream",
     "text": [
      "              precision    recall  f1-score   support\n",
      "\n",
      "           0     0.5549    0.4383    0.4898       600\n",
      "           1     0.6961    0.5917    0.6396       600\n",
      "           2     0.6882    0.5850    0.6324       600\n",
      "           3     0.5789    0.7217    0.6424       600\n",
      "           4     0.5330    0.6733    0.5950       600\n",
      "\n",
      "    accuracy                         0.6020      3000\n",
      "   macro avg     0.6102    0.6020    0.5999      3000\n",
      "weighted avg     0.6102    0.6020    0.5999      3000\n",
      "\n"
     ]
    }
   ],
   "source": [
    "print( classification_report(target, pred, target_names=model.classes, digits=4) )"
   ]
  },
  {
   "cell_type": "code",
   "execution_count": 12,
   "metadata": {},
   "outputs": [
    {
     "data": {
      "image/png": "[encoded data removed]",
      "text/plain": [
       "<Figure size 576x576 with 2 Axes>"
      ]
     },
     "metadata": {},
     "output_type": "display_data"
    }
   ],
   "source": [
    "cm = confusion_matrix(target, pred)\n",
    "plt.figure(figsize=(8, 8))\n",
    "sn.set(font_scale=1.1)  # Label size\n",
    "sn.heatmap(cm, annot=True, fmt=\"d\",\n",
    "cmap='Blues',\n",
    "# cbar=False,\n",
    "vmin=0,\n",
    "xticklabels=model.classes,  yticklabels=model.classes, annot_kws={\"size\": 16}, square=True, linewidths=0.5)\n",
    "plt.title(\"Confusion Matrix\")\n",
    "plt.ylabel('True label')\n",
    "plt.xlabel('Predicted label\\n\\nAccuracy={:.2f}\\nPrecision={:.2f}\\nRecall={:.2f}\\nF1 Score={:.2f}'.format(*row))\n",
    "plt.savefig('data/confusion_matrix.png', dpi=150, bbox_inches='tight')\n",
    "plt.show()"
   ]
  },
  {
   "cell_type": "code",
   "execution_count": null,
   "metadata": {},
   "outputs": [],
   "source": []
  }
 ],
 "metadata": {
  "interpreter": {
   "hash": "05264c394c9bf5c6ac8aaace9f814ed79d64a6d2d6f660c4b78d2e39382b8c09"
  },
  "kernelspec": {
   "display_name": "Python 3.9.7 64-bit ('pytorch19cu11': conda)",
   "name": "python3"
  },
  "language_info": {
   "codemirror_mode": {
    "name": "ipython",
    "version": 3
   },
   "file_extension": ".py",
   "mimetype": "text/x-python",
   "name": "python",
   "nbconvert_exporter": "python",
   "pygments_lexer": "ipython3",
   "version": "3.9.7"
  },
  "orig_nbformat": 2
 },
 "nbformat": 4,
 "nbformat_minor": 2
}
